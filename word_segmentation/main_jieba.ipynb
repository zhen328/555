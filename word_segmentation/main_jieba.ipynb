{
 "cells": [
  {
   "cell_type": "markdown",
   "id": "7e6074da-268d-4517-b77f-138863edc0f6",
   "metadata": {},
   "source": [
    "# 结巴分词实践"
   ]
  },
  {
   "cell_type": "markdown",
   "id": "abb1108f-1e2e-4afb-b2f0-576f7f773abe",
   "metadata": {},
   "source": [
    "## 结巴分词的三种模式"
   ]
  },
  {
   "cell_type": "markdown",
   "id": "35af8ae0-6671-4e4e-bf91-deb062b69cce",
   "metadata": {},
   "source": [
    "### 全模式"
   ]
  },
  {
   "cell_type": "code",
   "execution_count": 7,
   "id": "5e02092d-4bb7-433f-81a3-cc21ddf83d4f",
   "metadata": {},
   "outputs": [
    {
     "name": "stdout",
     "output_type": "stream",
     "text": [
      "Full Mode: 我/ 来到/ 北京/ 清华/ 清华大学/ 华大/ 大学\n"
     ]
    }
   ],
   "source": [
    "import jieba\n",
    "seg_list = jieba.cut(\"我来到北京清华大学\", cut_all=True)\n",
    "print(\"Full Mode: \" + \"/ \".join(seg_list))  # 全模式"
   ]
  },
  {
   "cell_type": "markdown",
   "id": "ff81f79a-92ea-4af9-a787-61f720498611",
   "metadata": {},
   "source": [
    "### 精确模式"
   ]
  },
  {
   "cell_type": "code",
   "execution_count": 8,
   "id": "09859ad7-5ce6-49aa-8e6f-77f96936276f",
   "metadata": {},
   "outputs": [
    {
     "name": "stdout",
     "output_type": "stream",
     "text": [
      "Default Mode: 我/ 来到/ 北京/ 清华大学\n"
     ]
    }
   ],
   "source": [
    "seg_list = jieba.cut(\"我来到北京清华大学\", cut_all=False)\n",
    "print(\"Default Mode: \" + \"/ \".join(seg_list))  # 精确模式"
   ]
  },
  {
   "cell_type": "markdown",
   "id": "32c01dff-cee7-488b-83ab-4d91441be093",
   "metadata": {},
   "source": [
    "### 搜索引擎模式"
   ]
  },
  {
   "cell_type": "code",
   "execution_count": 9,
   "id": "0b03fbf5-707d-4d41-9141-3b3b0d89bb60",
   "metadata": {},
   "outputs": [
    {
     "name": "stdout",
     "output_type": "stream",
     "text": [
      "小明, 硕士, 毕业, 于, 中国, 科学, 学院, 科学院, 中国科学院, 计算, 计算所, ，, 后, 在, 日本, 京都, 大学, 日本京都大学, 深造\n"
     ]
    }
   ],
   "source": [
    "seg_list = jieba.cut_for_search(\"小明硕士毕业于中国科学院计算所，后在日本京都大学深造\")  # 搜索引擎模式\n",
    "print(\", \".join(seg_list))"
   ]
  },
  {
   "cell_type": "markdown",
   "id": "180d1aed-45e3-4827-bc65-2d4f33b5e63f",
   "metadata": {},
   "source": [
    "## 载入词典"
   ]
  },
  {
   "cell_type": "code",
   "execution_count": 10,
   "id": "1107d12f-7496-4411-84cf-892c82df80cd",
   "metadata": {},
   "outputs": [
    {
     "name": "stdout",
     "output_type": "stream",
     "text": [
      "Default Mode: 张智嘉/即将/是/自然语言/处理/方面/的/高手\n"
     ]
    }
   ],
   "source": [
    " jieba.load_userdict(\"userdict.txt\")\n",
    "seg_list = jieba.cut(\"张智嘉即将是自然语言处理方面的高手\", cut_all=False, HMM=False)\n",
    "print(\"Default Mode: \" + \"/\".join(seg_list))"
   ]
  },
  {
   "cell_type": "markdown",
   "id": "2a7669a2-884b-43ce-b5b7-cf03efbe4132",
   "metadata": {},
   "source": [
    "## 关键词提取实践"
   ]
  },
  {
   "cell_type": "code",
   "execution_count": 6,
   "id": "b3ec5479-c166-4319-a294-8823f3c1525e",
   "metadata": {},
   "outputs": [
    {
     "name": "stdout",
     "output_type": "stream",
     "text": [
      "['重点', '大学', '国家', '河北省', '共建']\n"
     ]
    }
   ],
   "source": [
    "import jieba.analyse\n",
    "s = \"燕山大学是河北省人民政府、教育部、工业和信息化部、国家国防科技工业局四方共建的全国重点大学，河北省重点支持的国家一流大学和世界一流学科建设高校，北京高科大学联盟成员。\"\n",
    "seg_list = jieba.analyse.textrank(s, topK=5, withWeight=False, allowPOS=('ns', 'n', 'vn', 'v')) \n",
    "print(seg_list)"
   ]
  }
 ],
 "metadata": {
  "kernelspec": {
   "display_name": "Python 3 (ipykernel)",
   "language": "python",
   "name": "python3"
  },
  "language_info": {
   "codemirror_mode": {
    "name": "ipython",
    "version": 3
   },
   "file_extension": ".py",
   "mimetype": "text/x-python",
   "name": "python",
   "nbconvert_exporter": "python",
   "pygments_lexer": "ipython3",
   "version": "3.9.21"
  }
 },
 "nbformat": 4,
 "nbformat_minor": 5
}
