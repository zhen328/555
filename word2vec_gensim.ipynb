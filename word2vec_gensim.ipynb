{
 "cells": [
  {
   "cell_type": "code",
   "execution_count": 10,
   "id": "ad6fad28-5825-41d0-8af4-5364c11c4032",
   "metadata": {},
   "outputs": [
    {
     "name": "stderr",
     "output_type": "stream",
     "text": [
      "Building prefix dict from the default dictionary ...\n",
      "Loading model from cache C:\\Users\\hp\\AppData\\Local\\Temp\\jieba.cache\n",
      "Loading model cost 0.882 seconds.\n",
      "Prefix dict has been built successfully.\n"
     ]
    },
    {
     "name": "stdout",
     "output_type": "stream",
     "text": [
      "数据预处理完成，示例： ['一如既往', '地', '好吃', '希望', '可以']\n"
     ]
    }
   ],
   "source": [
    "import pandas as pd\n",
    "import jieba\n",
    "import re\n",
    "from gensim.models import Word2Vec\n",
    "\n",
    "# 加载数据（假设train.csv在同一目录）\n",
    "data = pd.read_csv('train.csv')\n",
    "corpus = data['comment'].values.astype(str)\n",
    "\n",
    "# 预处理：分词+去标点\n",
    "def preprocess(text):\n",
    "    text = re.sub(r\"[，。！!~；？?#【】]\", \"\", text)\n",
    "    return jieba.lcut(text)\n",
    "\n",
    "corpus = [preprocess(text) for text in corpus]\n",
    "print(\"数据预处理完成，示例：\", corpus[0][:5])  # 显示第一条评论的前5个词"
   ]
  },
  {
   "cell_type": "code",
   "execution_count": 11,
   "id": "a5cc9b4c-68a7-4bca-8e7c-081a41c2c8db",
   "metadata": {},
   "outputs": [
    {
     "name": "stdout",
     "output_type": "stream",
     "text": [
      "Skip-Gram模型训练完成！\n"
     ]
    }
   ],
   "source": [
    "# Skip-Gram模型训练\n",
    "skipgram_model = Word2Vec(\n",
    "    corpus,\n",
    "    sg=1,               # sg=1表示Skip-Gram\n",
    "    vector_size=300,\n",
    "    window=5,\n",
    "    min_count=3,\n",
    "    workers=4\n",
    ")\n",
    "print(\"Skip-Gram模型训练完成！\")"
   ]
  },
  {
   "cell_type": "code",
   "execution_count": 12,
   "id": "13c6f240-2cf9-4504-972d-cc8fa19a0634",
   "metadata": {},
   "outputs": [
    {
     "name": "stdout",
     "output_type": "stream",
     "text": [
      "“环境”的词向量（前5维）: [ 0.17611246  0.16745846 -0.1169007   0.11330535 -0.12056729]\n",
      "词向量形状: (300,)\n"
     ]
    }
   ],
   "source": [
    "# 获取词向量\n",
    "env_vector = skipgram_model.wv['环境']\n",
    "print(\"“环境”的词向量（前5维）:\", env_vector[:5])\n",
    "print(\"词向量形状:\", env_vector.shape)"
   ]
  },
  {
   "cell_type": "code",
   "execution_count": 13,
   "id": "115c4a6b-1e25-4896-8777-3ff08dfae024",
   "metadata": {},
   "outputs": [
    {
     "name": "stdout",
     "output_type": "stream",
     "text": [
      "与“好吃”最接近的3个词: [('好看', 0.8585113286972046), ('入味', 0.8494536876678467), ('美味', 0.8298680186271667)]\n"
     ]
    }
   ],
   "source": [
    "# 语义相似词\n",
    "similar_words = skipgram_model.wv.most_similar('好吃', topn=3)\n",
    "print(\"与“好吃”最接近的3个词:\", similar_words)"
   ]
  },
  {
   "cell_type": "code",
   "execution_count": 14,
   "id": "443c2e99-0627-404e-91be-da3975374b91",
   "metadata": {},
   "outputs": [
    {
     "name": "stdout",
     "output_type": "stream",
     "text": [
      "“好吃”和“美味”的相似度: 0.83\n",
      "“好吃”和“蟑螂”的相似度: 0.28\n"
     ]
    }
   ],
   "source": [
    "# 计算相似度\n",
    "sim1 = skipgram_model.wv.similarity('好吃', '美味')\n",
    "sim2 = skipgram_model.wv.similarity('好吃', '蟑螂')\n",
    "print(\"“好吃”和“美味”的相似度:\", round(sim1, 2))\n",
    "print(\"“好吃”和“蟑螂”的相似度:\", round(sim2, 2))"
   ]
  },
  {
   "cell_type": "code",
   "execution_count": 15,
   "id": "0809ab83-3fed-49ac-9bf0-4a810c1afa9c",
   "metadata": {},
   "outputs": [
    {
     "name": "stdout",
     "output_type": "stream",
     "text": [
      "“餐厅 + 聚会 - 安静”最相关结果: ('家庭聚会', 0.9471422433853149)\n"
     ]
    }
   ],
   "source": [
    "# 词向量类比\n",
    "result = skipgram_model.wv.most_similar(\n",
    "    positive=['餐厅', '聚会'],\n",
    "    negative=['安静'],\n",
    "    topn=1\n",
    ")\n",
    "print(\"“餐厅 + 聚会 - 安静”最相关结果:\", result[0])"
   ]
  }
 ],
 "metadata": {
  "kernelspec": {
   "display_name": "Python 3 (ipykernel)",
   "language": "python",
   "name": "python3"
  },
  "language_info": {
   "codemirror_mode": {
    "name": "ipython",
    "version": 3
   },
   "file_extension": ".py",
   "mimetype": "text/x-python",
   "name": "python",
   "nbconvert_exporter": "python",
   "pygments_lexer": "ipython3",
   "version": "3.9.21"
  }
 },
 "nbformat": 4,
 "nbformat_minor": 5
}
